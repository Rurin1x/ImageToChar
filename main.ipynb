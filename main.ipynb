{
 "cells": [
  {
   "cell_type": "markdown",
   "metadata": {},
   "source": [
    "# Преобразование изображения в символ"
   ]
  },
  {
   "cell_type": "code",
   "execution_count": 4,
   "metadata": {},
   "outputs": [],
   "source": [
    "import numpy\n",
    "import matplotlib.pyplot\n",
    "import cv2"
   ]
  },
  {
   "cell_type": "code",
   "execution_count": 5,
   "metadata": {},
   "outputs": [],
   "source": [
    "KEYS = [0x80, 0x40, 0x20, 0x10, 0x08, 0x04, 0x02, 0x01]"
   ]
  },
  {
   "cell_type": "code",
   "execution_count": 6,
   "metadata": {},
   "outputs": [],
   "source": [
    "charset = ['.', '!', '~', '@', '#', '$', '%', '^', '&', '*', '(', ')', '-', '+']\n",
    "orders = numpy.zeros(len(charset))"
   ]
  },
  {
   "cell_type": "code",
   "execution_count": 7,
   "metadata": {},
   "outputs": [],
   "source": [
    "def numsofone_in_charbytes(text):\n",
    "    offset = ord(text)\n",
    "    with open(\"./ASC16\", \"rb\") as ASC16:\n",
    "        location = offset*16\n",
    "        ASC16.seek(location)\n",
    "        retbytes = ASC16.read(16)\n",
    "    count = 0\n",
    "    for i in range(len(retbytes)):\n",
    "        for j in range(len(KEYS)):\n",
    "            if KEYS[j] & retbytes[i]:\n",
    "                count += 1\n",
    "    return count"
   ]
  },
  {
   "cell_type": "code",
   "execution_count": 8,
   "metadata": {},
   "outputs": [
    {
     "name": "stdout",
     "output_type": "stream",
     "text": [
      "[ 4. 24. 10. 43. 42. 43. 22. 12. 41. 24. 20. 20.  7. 14.]\n"
     ]
    }
   ],
   "source": [
    "for s in range(len(charset)):\n",
    "    orders[s] = numsofone_in_charbytes(charset[s])\n",
    "print(orders)"
   ]
  },
  {
   "cell_type": "code",
   "execution_count": 9,
   "metadata": {},
   "outputs": [
    {
     "name": "stdout",
     "output_type": "stream",
     "text": [
      "[ 0 12  2  7 13 10 11  6  1  9  8  4  3  5]\n",
      "['.', '-', '~', '^', '+', '(', ')', '%', '!', '*', '&', '#', '@', '$']\n"
     ]
    }
   ],
   "source": [
    "s = numpy.argsort(orders)\n",
    "print(s)\n",
    "charsetnew = []\n",
    "for i in range(len(charset)):\n",
    "    charsetnew.append(charset[s[i]])\n",
    "print(charsetnew)"
   ]
  },
  {
   "cell_type": "code",
   "execution_count": null,
   "metadata": {},
   "outputs": [],
   "source": [
    "def trim_pic(img):\n",
    "    shape = numpy.shape(img)\n",
    "    if shape[0] < 16 or shape[1] < 8:\n",
    "        return None\n",
    "    height = shape[0]//16\n",
    "    width = shape[1]//8\n",
    "    print(height)\n",
    "    print(width)\n",
    "    trimed_pic = img[:height*16, :width*8]\n",
    "    return trimed_pic"
   ]
  },
  {
   "cell_type": "code",
   "execution_count": null,
   "metadata": {},
   "outputs": [],
   "source": [
    "def pool16_8(img):\n",
    "    shape = numpy.shape(img)\n",
    "    row = shape[0] // 16\n",
    "    cow = shape[1] // 8\n",
    "    avgpixel = numpy.zeros((row,cow), dtype=float)\n",
    "    for i in range(row):\n",
    "        for j in range(cow):\n",
    "            t = 0.0\n",
    "            for t1 in range(16):\n",
    "                for t2 in range(8):\n",
    "                   t += img[t1+i*16, t2+j*8]\n",
    "            avgpixel[i, j] = t/(16*8)\n",
    "    return avgpixel"
   ]
  },
  {
   "cell_type": "code",
   "execution_count": null,
   "metadata": {},
   "outputs": [],
   "source": [
    "def cvt2char(avgpixel, charset):\n",
    "    chars = len(charset)\n",
    "    race = 255.0/chars\n",
    "    shape = numpy.shape(avgpixel)\n",
    "    retcharmatrix = []\n",
    "    rowchar = []\n",
    "    for i in range(shape[0]):\n",
    "        for j in range(shape[1]):\n",
    "            s = avgpixel[i, j] // race\n",
    "            rowchar.append(charset[int(s)])\n",
    "        retcharmatrix.append(rowchar[:])\n",
    "        rowchar.clear()\n",
    "    return retcharmatrix"
   ]
  },
  {
   "cell_type": "code",
   "execution_count": null,
   "metadata": {},
   "outputs": [],
   "source": [
    "def rgb2gray(rgb):\n",
    "    return numpy.dot(rgb[..., :3], [0.299, 0.587, 0.114])   # спасибо за это stackflower"
   ]
  },
  {
   "cell_type": "markdown",
   "metadata": {},
   "source": [
    "# Стартуем"
   ]
  },
  {
   "cell_type": "code",
   "execution_count": null,
   "metadata": {},
   "outputs": [],
   "source": [
    "srcimg = matplotlib.pyplot.imread(\"ImageToChar\\image.png\")  # путь к картинке\n",
    "grayimg = rgb2gray(srcimg)\n",
    "trimedimg = trim_pic(grayimg)\n",
    "pooledimg = pool16_8(trimedimg)\n",
    "charpic = cvt2char(pooledimg, charsetnew)"
   ]
  },
  {
   "cell_type": "code",
   "execution_count": null,
   "metadata": {},
   "outputs": [],
   "source": [
    "for r in charpic:\n",
    "    for c in r:\n",
    "        print(c, end='')\n",
    "    print()"
   ]
  },
  {
   "cell_type": "markdown",
   "metadata": {},
   "source": [
    "# Работает? Нет)"
   ]
  }
 ],
 "metadata": {
  "kernelspec": {
   "display_name": "Python 3.9.15 ('tf')",
   "language": "python",
   "name": "python3"
  },
  "language_info": {
   "codemirror_mode": {
    "name": "ipython",
    "version": 3
   },
   "file_extension": ".py",
   "mimetype": "text/x-python",
   "name": "python",
   "nbconvert_exporter": "python",
   "pygments_lexer": "ipython3",
   "version": "3.9.15"
  },
  "orig_nbformat": 4,
  "vscode": {
   "interpreter": {
    "hash": "1927033d232d3739b8c262063a1d96d394b74a2908924f0cc7eaa29b9193c2a2"
   }
  }
 },
 "nbformat": 4,
 "nbformat_minor": 2
}
